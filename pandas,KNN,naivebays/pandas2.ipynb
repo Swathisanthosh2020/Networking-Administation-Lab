{
 "cells": [
  {
   "cell_type": "code",
   "execution_count": 1,
   "metadata": {},
   "outputs": [
    {
     "name": "stdout",
     "output_type": "stream",
     "text": [
      "    Duration          Date  Pulse  Maxpulse  Calories\n",
      "0         60  '2020/12/01'    110       130     409.1\n",
      "1         60  '2020/12/02'    117       145     479.0\n",
      "2         60  '2020/12/03'    103       135     340.0\n",
      "3         45  '2020/12/04'    109       175     282.4\n",
      "4         45  '2020/12/05'    117       148     406.0\n",
      "5         60  '2020/12/06'    102       127     300.0\n",
      "6         60  '2020/12/07'    110       136     374.0\n",
      "7        450  '2020/12/08'    104       134     253.3\n",
      "8         30  '2020/12/09'    109       133     195.1\n",
      "9         60  '2020/12/10'     98       124     269.0\n",
      "10        60  '2020/12/11'    103       147     329.3\n",
      "11        60  '2020/12/12'    100       120     250.7\n",
      "12        60  '2020/12/12'    100       120     250.7\n",
      "13        60  '2020/12/13'    106       128     345.3\n",
      "14        60  '2020/12/14'    104       132     379.3\n",
      "15        60  '2020/12/15'     98       123     275.0\n",
      "16        60  '2020/12/16'     98       120     215.2\n",
      "17        60  '2020/12/17'    100       120     300.0\n",
      "18        45  '2020/12/18'     90       112       NaN\n",
      "19        60  '2020/12/19'    103       123     323.0\n",
      "20        45  '2020/12/20'     97       125     243.0\n",
      "21        60  '2020/12/21'    108       131     364.2\n",
      "22        45           NaN    100       119     282.0\n",
      "23        60  '2020/12/23'    130       101     300.0\n",
      "24        45  '2020/12/24'    105       132     246.0\n",
      "25        60  '2020/12/25'    102       126     334.5\n",
      "26        60      20201226    100       120     250.0\n",
      "27        60  '2020/12/27'     92       118     241.0\n",
      "28        60  '2020/12/28'    103       132       NaN\n",
      "29        60  '2020/12/29'    100       132     280.0\n",
      "30        60  '2020/12/30'    102       129     380.3\n",
      "31        60  '2020/12/31'     92       115     243.0\n"
     ]
    }
   ],
   "source": [
    "#read from csv file\n",
    "import pandas as pd\n",
    "df=pd.read_csv('dirtydata.csv')\n",
    "print(df)"
   ]
  },
  {
   "cell_type": "code",
   "execution_count": 2,
   "metadata": {},
   "outputs": [
    {
     "data": {
      "text/html": [
       "<div>\n",
       "<style>\n",
       "    .dataframe thead tr:only-child th {\n",
       "        text-align: right;\n",
       "    }\n",
       "\n",
       "    .dataframe thead th {\n",
       "        text-align: left;\n",
       "    }\n",
       "\n",
       "    .dataframe tbody tr th {\n",
       "        vertical-align: top;\n",
       "    }\n",
       "</style>\n",
       "<table border=\"1\" class=\"dataframe\">\n",
       "  <thead>\n",
       "    <tr style=\"text-align: right;\">\n",
       "      <th></th>\n",
       "      <th>Duration</th>\n",
       "      <th>Date</th>\n",
       "      <th>Pulse</th>\n",
       "      <th>Maxpulse</th>\n",
       "      <th>Calories</th>\n",
       "    </tr>\n",
       "  </thead>\n",
       "  <tbody>\n",
       "    <tr>\n",
       "      <th>0</th>\n",
       "      <td>60</td>\n",
       "      <td>'2020/12/01'</td>\n",
       "      <td>110</td>\n",
       "      <td>130</td>\n",
       "      <td>409.1</td>\n",
       "    </tr>\n",
       "    <tr>\n",
       "      <th>1</th>\n",
       "      <td>60</td>\n",
       "      <td>'2020/12/02'</td>\n",
       "      <td>117</td>\n",
       "      <td>145</td>\n",
       "      <td>479.0</td>\n",
       "    </tr>\n",
       "    <tr>\n",
       "      <th>2</th>\n",
       "      <td>60</td>\n",
       "      <td>'2020/12/03'</td>\n",
       "      <td>103</td>\n",
       "      <td>135</td>\n",
       "      <td>340.0</td>\n",
       "    </tr>\n",
       "  </tbody>\n",
       "</table>\n",
       "</div>"
      ],
      "text/plain": [
       "   Duration          Date  Pulse  Maxpulse  Calories\n",
       "0        60  '2020/12/01'    110       130     409.1\n",
       "1        60  '2020/12/02'    117       145     479.0\n",
       "2        60  '2020/12/03'    103       135     340.0"
      ]
     },
     "execution_count": 2,
     "metadata": {},
     "output_type": "execute_result"
    }
   ],
   "source": [
    "#for read 3 rows in csv file\n",
    "import pandas as pd\n",
    "df=pd.read_csv('dirtydata.csv')\n",
    "df.head(3)"
   ]
  },
  {
   "cell_type": "code",
   "execution_count": 3,
   "metadata": {},
   "outputs": [
    {
     "data": {
      "text/html": [
       "<div>\n",
       "<style>\n",
       "    .dataframe thead tr:only-child th {\n",
       "        text-align: right;\n",
       "    }\n",
       "\n",
       "    .dataframe thead th {\n",
       "        text-align: left;\n",
       "    }\n",
       "\n",
       "    .dataframe tbody tr th {\n",
       "        vertical-align: top;\n",
       "    }\n",
       "</style>\n",
       "<table border=\"1\" class=\"dataframe\">\n",
       "  <thead>\n",
       "    <tr style=\"text-align: right;\">\n",
       "      <th></th>\n",
       "      <th>Duration</th>\n",
       "      <th>Date</th>\n",
       "      <th>Pulse</th>\n",
       "      <th>Maxpulse</th>\n",
       "      <th>Calories</th>\n",
       "    </tr>\n",
       "  </thead>\n",
       "  <tbody>\n",
       "    <tr>\n",
       "      <th>29</th>\n",
       "      <td>60</td>\n",
       "      <td>'2020/12/29'</td>\n",
       "      <td>100</td>\n",
       "      <td>132</td>\n",
       "      <td>280.0</td>\n",
       "    </tr>\n",
       "    <tr>\n",
       "      <th>30</th>\n",
       "      <td>60</td>\n",
       "      <td>'2020/12/30'</td>\n",
       "      <td>102</td>\n",
       "      <td>129</td>\n",
       "      <td>380.3</td>\n",
       "    </tr>\n",
       "    <tr>\n",
       "      <th>31</th>\n",
       "      <td>60</td>\n",
       "      <td>'2020/12/31'</td>\n",
       "      <td>92</td>\n",
       "      <td>115</td>\n",
       "      <td>243.0</td>\n",
       "    </tr>\n",
       "  </tbody>\n",
       "</table>\n",
       "</div>"
      ],
      "text/plain": [
       "    Duration          Date  Pulse  Maxpulse  Calories\n",
       "29        60  '2020/12/29'    100       132     280.0\n",
       "30        60  '2020/12/30'    102       129     380.3\n",
       "31        60  '2020/12/31'     92       115     243.0"
      ]
     },
     "execution_count": 3,
     "metadata": {},
     "output_type": "execute_result"
    }
   ],
   "source": [
    "#for read 3 rows in csv file\n",
    "import pandas as pd\n",
    "df=pd.read_csv('dirtydata.csv')\n",
    "df.tail(3)"
   ]
  },
  {
   "cell_type": "code",
   "execution_count": 4,
   "metadata": {},
   "outputs": [
    {
     "name": "stdout",
     "output_type": "stream",
     "text": [
      "<class 'pandas.core.frame.DataFrame'>\n",
      "RangeIndex: 32 entries, 0 to 31\n",
      "Data columns (total 5 columns):\n",
      "Duration    32 non-null int64\n",
      "Date        31 non-null object\n",
      "Pulse       32 non-null int64\n",
      "Maxpulse    32 non-null int64\n",
      "Calories    30 non-null float64\n",
      "dtypes: float64(1), int64(3), object(1)\n",
      "memory usage: 1.3+ KB\n"
     ]
    }
   ],
   "source": [
    "#info\n",
    "import pandas as pd\n",
    "df=pd.read_csv('dirtydata.csv')\n",
    "df.info()"
   ]
  },
  {
   "cell_type": "code",
   "execution_count": 5,
   "metadata": {},
   "outputs": [
    {
     "name": "stdout",
     "output_type": "stream",
     "text": [
      "    Duration          Date  Pulse  Maxpulse  Calories\n",
      "0         60  '2020/12/01'    110       130     409.1\n",
      "1         60  '2020/12/02'    117       145     479.0\n",
      "2         60  '2020/12/03'    103       135     340.0\n",
      "3         45  '2020/12/04'    109       175     282.4\n",
      "4         45  '2020/12/05'    117       148     406.0\n",
      "5         60  '2020/12/06'    102       127     300.0\n",
      "6         60  '2020/12/07'    110       136     374.0\n",
      "7        450  '2020/12/08'    104       134     253.3\n",
      "8         30  '2020/12/09'    109       133     195.1\n",
      "9         60  '2020/12/10'     98       124     269.0\n",
      "10        60  '2020/12/11'    103       147     329.3\n",
      "11        60  '2020/12/12'    100       120     250.7\n",
      "12        60  '2020/12/12'    100       120     250.7\n",
      "13        60  '2020/12/13'    106       128     345.3\n",
      "14        60  '2020/12/14'    104       132     379.3\n",
      "15        60  '2020/12/15'     98       123     275.0\n",
      "16        60  '2020/12/16'     98       120     215.2\n",
      "17        60  '2020/12/17'    100       120     300.0\n",
      "19        60  '2020/12/19'    103       123     323.0\n",
      "20        45  '2020/12/20'     97       125     243.0\n",
      "21        60  '2020/12/21'    108       131     364.2\n",
      "23        60  '2020/12/23'    130       101     300.0\n",
      "24        45  '2020/12/24'    105       132     246.0\n",
      "25        60  '2020/12/25'    102       126     334.5\n",
      "26        60      20201226    100       120     250.0\n",
      "27        60  '2020/12/27'     92       118     241.0\n",
      "29        60  '2020/12/29'    100       132     280.0\n",
      "30        60  '2020/12/30'    102       129     380.3\n",
      "31        60  '2020/12/31'     92       115     243.0\n"
     ]
    }
   ],
   "source": [
    "#for removing empty cells\n",
    "import pandas as pd\n",
    "df=pd.read_csv('dirtydata.csv')\n",
    "print(df.dropna())"
   ]
  },
  {
   "cell_type": "code",
   "execution_count": 7,
   "metadata": {},
   "outputs": [
    {
     "name": "stdout",
     "output_type": "stream",
     "text": [
      "    Duration          Date  Pulse  Maxpulse  Calories\n",
      "0         60  '2020/12/01'    110       130     409.1\n",
      "1         60  '2020/12/02'    117       145     479.0\n",
      "2         60  '2020/12/03'    103       135     340.0\n",
      "3         45  '2020/12/04'    109       175     282.4\n",
      "4         45  '2020/12/05'    117       148     406.0\n",
      "5         60  '2020/12/06'    102       127     300.0\n",
      "6         60  '2020/12/07'    110       136     374.0\n",
      "7        450  '2020/12/08'    104       134     253.3\n",
      "8         30  '2020/12/09'    109       133     195.1\n",
      "9         60  '2020/12/10'     98       124     269.0\n",
      "10        60  '2020/12/11'    103       147     329.3\n",
      "11        60  '2020/12/12'    100       120     250.7\n",
      "12        60  '2020/12/12'    100       120     250.7\n",
      "13        60  '2020/12/13'    106       128     345.3\n",
      "14        60  '2020/12/14'    104       132     379.3\n",
      "15        60  '2020/12/15'     98       123     275.0\n",
      "16        60  '2020/12/16'     98       120     215.2\n",
      "17        60  '2020/12/17'    100       120     300.0\n",
      "18        45  '2020/12/18'     90       112       NaN\n",
      "19        60  '2020/12/19'    103       123     323.0\n",
      "20        45  '2020/12/20'     97       125     243.0\n",
      "21        60  '2020/12/21'    108       131     364.2\n",
      "22        45           NaN    100       119     282.0\n",
      "23        60  '2020/12/23'    130       101     300.0\n",
      "24        45  '2020/12/24'    105       132     246.0\n",
      "25        60  '2020/12/25'    102       126     334.5\n",
      "26        60      20201226    100       120     250.0\n",
      "27        60  '2020/12/27'     92       118     241.0\n",
      "28        60  '2020/12/28'    103       132       NaN\n",
      "29        60  '2020/12/29'    100       132     280.0\n",
      "30        60  '2020/12/30'    102       129     380.3\n",
      "31        60  '2020/12/31'     92       115     243.0\n"
     ]
    }
   ],
   "source": [
    "#read from csv file\n",
    "import pandas as pd\n",
    "df=pd.read_csv('dirtydata.csv')\n",
    "print(df)"
   ]
  },
  {
   "cell_type": "code",
   "execution_count": 26,
   "metadata": {},
   "outputs": [
    {
     "name": "stdout",
     "output_type": "stream",
     "text": [
      "    Duration                          Date  Pulse  Maxpulse  Calories\n",
      "0         60 2020-12-01 00:00:00.000000000    110       130     409.1\n",
      "1         60 2020-12-02 00:00:00.000000000    117       145     479.0\n",
      "2         60 2020-12-03 00:00:00.000000000    103       135     340.0\n",
      "3         45 2020-12-04 00:00:00.000000000    109       175     282.4\n",
      "4         45 2020-12-05 00:00:00.000000000    117       148     406.0\n",
      "5         60 2020-12-06 00:00:00.000000000    102       127     300.0\n",
      "6         60 2020-12-07 00:00:00.000000000    110       136     374.0\n",
      "7        450 2020-12-08 00:00:00.000000000    104       134     253.3\n",
      "8         30 2020-12-09 00:00:00.000000000    109       133     195.1\n",
      "9         60 2020-12-10 00:00:00.000000000     98       124     269.0\n",
      "10        60 2020-12-11 00:00:00.000000000    103       147     329.3\n",
      "11        60 2020-12-12 00:00:00.000000000    100       120     250.7\n",
      "12        60 2020-12-12 00:00:00.000000000    100       120     250.7\n",
      "13        60 2020-12-13 00:00:00.000000000    106       128     345.3\n",
      "14        60 2020-12-14 00:00:00.000000000    104       132     379.3\n",
      "15        60 2020-12-15 00:00:00.000000000     98       123     275.0\n",
      "16        60 2020-12-16 00:00:00.000000000     98       120     215.2\n",
      "17        60 2020-12-17 00:00:00.000000000    100       120     300.0\n",
      "18        45 2020-12-18 00:00:00.000000000     90       112      12.0\n",
      "19        60 2020-12-19 00:00:00.000000000    103       123     323.0\n",
      "20        45 2020-12-20 00:00:00.000000000     97       125     243.0\n",
      "21        60 2020-12-21 00:00:00.000000000    108       131     364.2\n",
      "22        45 1970-01-01 00:00:00.000000012    100       119     282.0\n",
      "23        60 2020-12-23 00:00:00.000000000    130       101     300.0\n",
      "24        45 2020-12-24 00:00:00.000000000    105       132     246.0\n",
      "25        60 2020-12-25 00:00:00.000000000    102       126     334.5\n",
      "26        60 2020-12-26 00:00:00.000000000    100       120     250.0\n",
      "27        60 2020-12-27 00:00:00.000000000     92       118     241.0\n",
      "28        60 2020-12-28 00:00:00.000000000    103       132      12.0\n",
      "29        60 2020-12-29 00:00:00.000000000    100       132     280.0\n",
      "30        60 2020-12-30 00:00:00.000000000    102       129     380.3\n",
      "31        60 2020-12-31 00:00:00.000000000     92       115     243.0\n"
     ]
    }
   ],
   "source": [
    "#for fill empty data with 12 and covert to Date format in Date column\n",
    "import pandas as pd\n",
    "df=pd.read_csv('dirtydata.csv')\n",
    "df['Date']=pd.to_datetime(df['Date'])\n",
    "print(df.fillna(12))\n"
   ]
  },
  {
   "cell_type": "code",
   "execution_count": 24,
   "metadata": {},
   "outputs": [
    {
     "name": "stdout",
     "output_type": "stream",
     "text": [
      "0     409.1\n",
      "1     479.0\n",
      "2     340.0\n",
      "3     282.4\n",
      "4     406.0\n",
      "5     300.0\n",
      "6     374.0\n",
      "7     253.3\n",
      "8     195.1\n",
      "9     269.0\n",
      "10    329.3\n",
      "11    250.7\n",
      "12    250.7\n",
      "13    345.3\n",
      "14    379.3\n",
      "15    275.0\n",
      "16    215.2\n",
      "17    300.0\n",
      "18     34.0\n",
      "19    323.0\n",
      "20    243.0\n",
      "21    364.2\n",
      "22    282.0\n",
      "23    300.0\n",
      "24    246.0\n",
      "25    334.5\n",
      "26    250.0\n",
      "27    241.0\n",
      "28     34.0\n",
      "29    280.0\n",
      "30    380.3\n",
      "31    243.0\n",
      "Name: Calories, dtype: float64\n"
     ]
    }
   ],
   "source": [
    "#for fill empty data with 'Ba' th column\n",
    "import pandas as pd\n",
    "df=pd.read_csv('dirtydata.csv')\n",
    "print(df['Calories'].fillna(34))"
   ]
  },
  {
   "cell_type": "code",
   "execution_count": 25,
   "metadata": {},
   "outputs": [
    {
     "name": "stdout",
     "output_type": "stream",
     "text": [
      "mean: 304.68\n",
      "0     409.10\n",
      "1     479.00\n",
      "2     340.00\n",
      "3     282.40\n",
      "4     406.00\n",
      "5     300.00\n",
      "6     374.00\n",
      "7     253.30\n",
      "8     195.10\n",
      "9     269.00\n",
      "10    329.30\n",
      "11    250.70\n",
      "12    250.70\n",
      "13    345.30\n",
      "14    379.30\n",
      "15    275.00\n",
      "16    215.20\n",
      "17    300.00\n",
      "18    304.68\n",
      "19    323.00\n",
      "20    243.00\n",
      "21    364.20\n",
      "22    282.00\n",
      "23    300.00\n",
      "24    246.00\n",
      "25    334.50\n",
      "26    250.00\n",
      "27    241.00\n",
      "28    304.68\n",
      "29    280.00\n",
      "30    380.30\n",
      "31    243.00\n",
      "Name: Calories, dtype: float64\n"
     ]
    }
   ],
   "source": [
    "#replace with mean\n",
    "import pandas as pd\n",
    "df=pd.read_csv('dirtydata.csv')\n",
    "x=df['Calories'].mean()\n",
    "print(\"mean:\",x)\n",
    "print(df['Calories'].fillna(x))"
   ]
  },
  {
   "cell_type": "code",
   "execution_count": 16,
   "metadata": {},
   "outputs": [
    {
     "name": "stdout",
     "output_type": "stream",
     "text": [
      "3 th row:\n",
      "Duration              45\n",
      "Date        '2020/12/04'\n",
      "Pulse                109\n",
      "Maxpulse             175\n",
      "Calories           282.4\n",
      "Name: 3, dtype: object\n",
      "\n",
      "3 th row after replacing Calories with 767:\n",
      "Duration              45\n",
      "Date        '2020/12/04'\n",
      "Pulse                109\n",
      "Maxpulse             175\n",
      "Calories             767\n",
      "Name: 3, dtype: object\n"
     ]
    }
   ],
   "source": [
    "#removing wrong data\n",
    "import pandas as pd\n",
    "df=pd.read_csv('dirtydata.csv')\n",
    "print(\"3 th row:\")\n",
    "print(df.loc[3])\n",
    "print(\"\\n3 th row after replacing Calories with 767:\")\n",
    "df.loc[3,'Calories']=767\n",
    "print(df.loc[3])"
   ]
  },
  {
   "cell_type": "code",
   "execution_count": 17,
   "metadata": {},
   "outputs": [
    {
     "name": "stdout",
     "output_type": "stream",
     "text": [
      "have duplicated?\n",
      "0     False\n",
      "1     False\n",
      "2     False\n",
      "3     False\n",
      "4     False\n",
      "5     False\n",
      "6     False\n",
      "7     False\n",
      "8     False\n",
      "9     False\n",
      "10    False\n",
      "11    False\n",
      "12     True\n",
      "13    False\n",
      "14    False\n",
      "15    False\n",
      "16    False\n",
      "17    False\n",
      "18    False\n",
      "19    False\n",
      "20    False\n",
      "21    False\n",
      "22    False\n",
      "23    False\n",
      "24    False\n",
      "25    False\n",
      "26    False\n",
      "27    False\n",
      "28    False\n",
      "29    False\n",
      "30    False\n",
      "31    False\n",
      "dtype: bool\n"
     ]
    }
   ],
   "source": [
    "#remove duplicates\n",
    "import pandas as pd\n",
    "df=pd.read_csv('dirtydata.csv')\n",
    "print(\"have duplicated?\")\n",
    "print(df.duplicated())\n",
    "df.drop_duplicates(inplace=True)\n"
   ]
  },
  {
   "cell_type": "code",
   "execution_count": 18,
   "metadata": {},
   "outputs": [
    {
     "data": {
      "text/html": [
       "<div>\n",
       "<style>\n",
       "    .dataframe thead tr:only-child th {\n",
       "        text-align: right;\n",
       "    }\n",
       "\n",
       "    .dataframe thead th {\n",
       "        text-align: left;\n",
       "    }\n",
       "\n",
       "    .dataframe tbody tr th {\n",
       "        vertical-align: top;\n",
       "    }\n",
       "</style>\n",
       "<table border=\"1\" class=\"dataframe\">\n",
       "  <thead>\n",
       "    <tr style=\"text-align: right;\">\n",
       "      <th></th>\n",
       "      <th>Duration</th>\n",
       "      <th>Pulse</th>\n",
       "      <th>Maxpulse</th>\n",
       "      <th>Calories</th>\n",
       "    </tr>\n",
       "  </thead>\n",
       "  <tbody>\n",
       "    <tr>\n",
       "      <th>Duration</th>\n",
       "      <td>1.000000</td>\n",
       "      <td>0.004410</td>\n",
       "      <td>0.049959</td>\n",
       "      <td>-0.114169</td>\n",
       "    </tr>\n",
       "    <tr>\n",
       "      <th>Pulse</th>\n",
       "      <td>0.004410</td>\n",
       "      <td>1.000000</td>\n",
       "      <td>0.276583</td>\n",
       "      <td>0.513186</td>\n",
       "    </tr>\n",
       "    <tr>\n",
       "      <th>Maxpulse</th>\n",
       "      <td>0.049959</td>\n",
       "      <td>0.276583</td>\n",
       "      <td>1.000000</td>\n",
       "      <td>0.357460</td>\n",
       "    </tr>\n",
       "    <tr>\n",
       "      <th>Calories</th>\n",
       "      <td>-0.114169</td>\n",
       "      <td>0.513186</td>\n",
       "      <td>0.357460</td>\n",
       "      <td>1.000000</td>\n",
       "    </tr>\n",
       "  </tbody>\n",
       "</table>\n",
       "</div>"
      ],
      "text/plain": [
       "          Duration     Pulse  Maxpulse  Calories\n",
       "Duration  1.000000  0.004410  0.049959 -0.114169\n",
       "Pulse     0.004410  1.000000  0.276583  0.513186\n",
       "Maxpulse  0.049959  0.276583  1.000000  0.357460\n",
       "Calories -0.114169  0.513186  0.357460  1.000000"
      ]
     },
     "execution_count": 18,
     "metadata": {},
     "output_type": "execute_result"
    }
   ],
   "source": [
    "#corrilation\n",
    "import pandas as pd\n",
    "df=pd.read_csv('dirtydata.csv')\n",
    "df.corr()"
   ]
  },
  {
   "cell_type": "code",
   "execution_count": 19,
   "metadata": {},
   "outputs": [
    {
     "name": "stdout",
     "output_type": "stream",
     "text": [
      "    Duration          Date  Pulse  Maxpulse  Calories\n",
      "0         60  '2020/12/01'    110       130     409.1\n",
      "1         60  '2020/12/02'    117       145     479.0\n",
      "2         60  '2020/12/03'    103       135     340.0\n",
      "3         45  '2020/12/04'    109       175     282.4\n",
      "4         45  '2020/12/05'    117       148     406.0\n",
      "5         60  '2020/12/06'    102       127     300.0\n",
      "6         60  '2020/12/07'    110       136     374.0\n",
      "7        450  '2020/12/08'    104       134     253.3\n",
      "8         30  '2020/12/09'    109       133     195.1\n",
      "9         60  '2020/12/10'     98       124     269.0\n",
      "10        60  '2020/12/11'    103       147     329.3\n",
      "11        60  '2020/12/12'    100       120     250.7\n",
      "12        60  '2020/12/12'    100       120     250.7\n",
      "13        60  '2020/12/13'    106       128     345.3\n",
      "14        60  '2020/12/14'    104       132     379.3\n",
      "15        60  '2020/12/15'     98       123     275.0\n",
      "16        60  '2020/12/16'     98       120     215.2\n",
      "17        60  '2020/12/17'    100       120     300.0\n",
      "18        45  '2020/12/18'     90       112       NaN\n",
      "19        60  '2020/12/19'    103       123     323.0\n",
      "20        45  '2020/12/20'     97       125     243.0\n",
      "21        60  '2020/12/21'    108       131     364.2\n",
      "22        45           NaN    100       119     282.0\n",
      "23        60  '2020/12/23'    130       101     300.0\n",
      "24        45  '2020/12/24'    105       132     246.0\n",
      "25        60  '2020/12/25'    102       126     334.5\n",
      "26        60      20201226    100       120     250.0\n",
      "27        60  '2020/12/27'     92       118     241.0\n",
      "28        60  '2020/12/28'    103       132       NaN\n",
      "29        60  '2020/12/29'    100       132     280.0\n",
      "30        60  '2020/12/30'    102       129     380.3\n",
      "31        60  '2020/12/31'     92       115     243.0\n"
     ]
    }
   ],
   "source": [
    "#data to string\n",
    "import pandas as pd\n",
    "df=pd.read_csv('dirtydata.csv')\n",
    "print(df.to_string())"
   ]
  },
  {
   "cell_type": "code",
   "execution_count": 20,
   "metadata": {},
   "outputs": [
    {
     "name": "stdout",
     "output_type": "stream",
     "text": [
      "    Duration          Date  Pulse  Maxpulse  Calories\n",
      "0         60  '2020/12/01'    110       130     409.1\n",
      "1         60  '2020/12/02'    117       145     479.0\n",
      "2         60  '2020/12/03'    103       135     340.0\n",
      "3         45  '2020/12/04'    109       175     282.4\n",
      "4         45  '2020/12/05'    117       148     406.0\n",
      "5         60  '2020/12/06'    102       127     300.0\n",
      "6         60  '2020/12/07'    110       136     374.0\n",
      "7        450  '2020/12/08'    104       134     253.3\n",
      "8         30  '2020/12/09'    109       133     195.1\n",
      "9         60  '2020/12/10'     98       124     269.0\n",
      "10        60  '2020/12/11'    103       147     329.3\n",
      "11        60  '2020/12/12'    100       120     250.7\n",
      "12        60  '2020/12/12'    100       120     250.7\n",
      "13        60  '2020/12/13'    106       128     345.3\n",
      "14        60  '2020/12/14'    104       132     379.3\n",
      "15        60  '2020/12/15'     98       123     275.0\n",
      "16        60  '2020/12/16'     98       120     215.2\n",
      "17        60  '2020/12/17'    100       120     300.0\n",
      "19        60  '2020/12/19'    103       123     323.0\n",
      "20        45  '2020/12/20'     97       125     243.0\n",
      "21        60  '2020/12/21'    108       131     364.2\n",
      "23        60  '2020/12/23'    130       101     300.0\n",
      "24        45  '2020/12/24'    105       132     246.0\n",
      "25        60  '2020/12/25'    102       126     334.5\n",
      "26        60      20201226    100       120     250.0\n",
      "27        60  '2020/12/27'     92       118     241.0\n",
      "29        60  '2020/12/29'    100       132     280.0\n",
      "30        60  '2020/12/30'    102       129     380.3\n",
      "31        60  '2020/12/31'     92       115     243.0\n"
     ]
    }
   ],
   "source": [
    "import pandas as pd\n",
    "df = pd.read_csv('dirtydata.csv')\n",
    "new_df = df.dropna()\n",
    "print(new_df.to_string())"
   ]
  },
  {
   "cell_type": "code",
   "execution_count": null,
   "metadata": {
    "collapsed": true
   },
   "outputs": [],
   "source": []
  },
  {
   "cell_type": "code",
   "execution_count": null,
   "metadata": {
    "collapsed": true
   },
   "outputs": [],
   "source": []
  }
 ],
 "metadata": {
  "kernelspec": {
   "display_name": "Python 3",
   "language": "python",
   "name": "python3"
  },
  "language_info": {
   "codemirror_mode": {
    "name": "ipython",
    "version": 3
   },
   "file_extension": ".py",
   "mimetype": "text/x-python",
   "name": "python",
   "nbconvert_exporter": "python",
   "pygments_lexer": "ipython3",
   "version": "3.6.3"
  }
 },
 "nbformat": 4,
 "nbformat_minor": 2
}
